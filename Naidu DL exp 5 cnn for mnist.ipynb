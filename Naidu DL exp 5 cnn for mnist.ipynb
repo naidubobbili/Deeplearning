{
 "cells": [
  {
   "cell_type": "markdown",
   "id": "c968838a",
   "metadata": {},
   "source": [
    "# Build a Convolutional Neural Network for MNIST han"
   ]
  },
  {
   "cell_type": "markdown",
   "id": "5302dac9",
   "metadata": {},
   "source": [
    "# Step 1: Import the Libraries"
   ]
  },
  {
   "cell_type": "code",
   "execution_count": 1,
   "id": "356481ee",
   "metadata": {},
   "outputs": [],
   "source": [
    "import tensorflow as tf\n",
    "import numpy as np\n",
    "import pandas as pd\n",
    "import matplotlib.pyplot as plt\n",
    "from tensorflow import keras"
   ]
  },
  {
   "cell_type": "markdown",
   "id": "65456b78",
   "metadata": {},
   "source": [
    "# Step 2: Load mnsit dataset"
   ]
  },
  {
   "cell_type": "code",
   "execution_count": 3,
   "id": "5c8ebc4d",
   "metadata": {},
   "outputs": [
    {
     "name": "stdout",
     "output_type": "stream",
     "text": [
      "Downloading data from https://storage.googleapis.com/tensorflow/tf-keras-datasets/mnist.npz\n",
      "11490434/11490434 [==============================] - 3s 0us/step\n"
     ]
    }
   ],
   "source": [
    "(x_train,y_train),(x_test,y_test)=keras.datasets.mnist.load_data()"
   ]
  },
  {
   "cell_type": "markdown",
   "id": "19dc4f53",
   "metadata": {},
   "source": [
    "# Step 3: Normalize the data"
   ]
  },
  {
   "cell_type": "code",
   "execution_count": 4,
   "id": "f78adbd3",
   "metadata": {},
   "outputs": [],
   "source": [
    "x_train=x_train/255\n",
    "y_train=y_train/255"
   ]
  },
  {
   "cell_type": "markdown",
   "id": "139f1cb4",
   "metadata": {},
   "source": [
    "# Step 4: Reshape the data"
   ]
  },
  {
   "cell_type": "code",
   "execution_count": 8,
   "id": "c5251f9a",
   "metadata": {},
   "outputs": [],
   "source": [
    "x_train=x_train.reshape(x_train.shape[0],28,28,1)\n",
    "x_test=x_test.reshape(x_test.shape[0],28,28,1)"
   ]
  },
  {
   "cell_type": "markdown",
   "id": "277b2352",
   "metadata": {},
   "source": [
    "# Step 5: Convert labels to one_hot encoding"
   ]
  },
  {
   "cell_type": "code",
   "execution_count": 9,
   "id": "0da21a46",
   "metadata": {},
   "outputs": [],
   "source": [
    "y_train=keras.utils.to_categorical(y_train,10)\n",
    "y_test=keras.utils.to_categorical(y_test,10)"
   ]
  },
  {
   "cell_type": "markdown",
   "id": "e89de0d1",
   "metadata": {},
   "source": [
    "# Step 6: Build the model"
   ]
  },
  {
   "cell_type": "code",
   "execution_count": 10,
   "id": "4271695f",
   "metadata": {},
   "outputs": [],
   "source": [
    "model=keras.Sequential()\n",
    "model.add(keras.layers.Conv2D(32,kernel_size=(3,3),activation='relu',input_shape=(28,28,1)))\n",
    "model.add(keras.layers.MaxPooling2D(pool_size=(2,2)))\n",
    "model.add(keras.layers.Flatten())\n",
    "model.add(keras.layers.Dense(64,activation='relu'))\n",
    "model.add(keras.layers.Dense(10,activation='softmax'))"
   ]
  },
  {
   "cell_type": "markdown",
   "id": "be3706fe",
   "metadata": {},
   "source": [
    "# Step 7: Compile the model"
   ]
  },
  {
   "cell_type": "code",
   "execution_count": 11,
   "id": "9dc0dd2d",
   "metadata": {},
   "outputs": [],
   "source": [
    "model.compile(optimizer='adam',loss='categorical_crossentropy',metrics=['accuracy'])"
   ]
  },
  {
   "cell_type": "markdown",
   "id": "53e27c1b",
   "metadata": {},
   "source": [
    "# Step 8: Train the model"
   ]
  },
  {
   "cell_type": "code",
   "execution_count": 12,
   "id": "51d1e795",
   "metadata": {},
   "outputs": [
    {
     "name": "stdout",
     "output_type": "stream",
     "text": [
      "Epoch 1/10\n",
      "1875/1875 [==============================] - 38s 18ms/step - loss: 0.0041 - accuracy: 0.9995 - val_loss: 4271.7603 - val_accuracy: 0.0980\n",
      "Epoch 2/10\n",
      "1875/1875 [==============================] - 33s 18ms/step - loss: 5.8861e-08 - accuracy: 1.0000 - val_loss: 6035.6777 - val_accuracy: 0.0980\n",
      "Epoch 3/10\n",
      "1875/1875 [==============================] - 34s 18ms/step - loss: 3.8008e-09 - accuracy: 1.0000 - val_loss: 6491.0117 - val_accuracy: 0.0980\n",
      "Epoch 4/10\n",
      "1875/1875 [==============================] - 35s 19ms/step - loss: 1.3908e-09 - accuracy: 1.0000 - val_loss: 6781.2153 - val_accuracy: 0.0980\n",
      "Epoch 5/10\n",
      "1875/1875 [==============================] - 36s 19ms/step - loss: 6.6360e-10 - accuracy: 1.0000 - val_loss: 6976.0010 - val_accuracy: 0.0980\n",
      "Epoch 6/10\n",
      "1875/1875 [==============================] - 33s 18ms/step - loss: 4.1525e-10 - accuracy: 1.0000 - val_loss: 7127.9575 - val_accuracy: 0.0980\n",
      "Epoch 7/10\n",
      "1875/1875 [==============================] - 35s 19ms/step - loss: 2.6822e-10 - accuracy: 1.0000 - val_loss: 7249.2632 - val_accuracy: 0.0980\n",
      "Epoch 8/10\n",
      "1875/1875 [==============================] - 37s 20ms/step - loss: 1.7285e-10 - accuracy: 1.0000 - val_loss: 7344.5566 - val_accuracy: 0.0980\n",
      "Epoch 9/10\n",
      "1875/1875 [==============================] - 33s 18ms/step - loss: 1.1524e-10 - accuracy: 1.0000 - val_loss: 7425.7490 - val_accuracy: 0.0980\n",
      "Epoch 10/10\n",
      "1875/1875 [==============================] - 36s 19ms/step - loss: 6.9539e-11 - accuracy: 1.0000 - val_loss: 7501.0352 - val_accuracy: 0.0980\n"
     ]
    },
    {
     "data": {
      "text/plain": [
       "<keras.callbacks.History at 0x1ed2c922370>"
      ]
     },
     "execution_count": 12,
     "metadata": {},
     "output_type": "execute_result"
    }
   ],
   "source": [
    "model.fit(x_train,y_train,epochs=10,batch_size=32,validation_data=(x_test,y_test))"
   ]
  },
  {
   "cell_type": "markdown",
   "id": "3c0643fa",
   "metadata": {},
   "source": [
    "# Step 9: Evaluate the model"
   ]
  },
  {
   "cell_type": "code",
   "execution_count": 13,
   "id": "0c5341d1",
   "metadata": {},
   "outputs": [
    {
     "name": "stdout",
     "output_type": "stream",
     "text": [
      "test loss: 7501.03515625\n",
      "test accuracy: 0.09799999743700027\n"
     ]
    }
   ],
   "source": [
    "score=model.evaluate(x_test,y_test,verbose=0)\n",
    "print('test loss:',score[0])\n",
    "print('test accuracy:',score[1])"
   ]
  },
  {
   "cell_type": "code",
   "execution_count": null,
   "id": "c77d45aa",
   "metadata": {},
   "outputs": [],
   "source": []
  }
 ],
 "metadata": {
  "kernelspec": {
   "display_name": "Python 3 (ipykernel)",
   "language": "python",
   "name": "python3"
  },
  "language_info": {
   "codemirror_mode": {
    "name": "ipython",
    "version": 3
   },
   "file_extension": ".py",
   "mimetype": "text/x-python",
   "name": "python",
   "nbconvert_exporter": "python",
   "pygments_lexer": "ipython3",
   "version": "3.9.12"
  }
 },
 "nbformat": 4,
 "nbformat_minor": 5
}
