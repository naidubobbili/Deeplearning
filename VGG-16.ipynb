{
 "cells": [
  {
   "cell_type": "code",
   "execution_count": 1,
   "id": "b2a8d6d4",
   "metadata": {},
   "outputs": [],
   "source": [
    "import keras,os"
   ]
  },
  {
   "cell_type": "code",
   "execution_count": 2,
   "id": "d96e6ac7",
   "metadata": {},
   "outputs": [],
   "source": [
    "import numpy as np"
   ]
  },
  {
   "cell_type": "code",
   "execution_count": 3,
   "id": "05df277a",
   "metadata": {},
   "outputs": [],
   "source": [
    "from keras.models import Sequential"
   ]
  },
  {
   "cell_type": "code",
   "execution_count": 4,
   "id": "a805dbc3",
   "metadata": {},
   "outputs": [],
   "source": [
    "from keras.layers import Conv2D,MaxPooling2D,Flatten,Dense"
   ]
  },
  {
   "cell_type": "code",
   "execution_count": 5,
   "id": "4b44e3f7",
   "metadata": {},
   "outputs": [],
   "source": [
    "from keras.preprocessing.image import ImageDataGenerator"
   ]
  },
  {
   "cell_type": "code",
   "execution_count": 6,
   "id": "fdf22b3c",
   "metadata": {},
   "outputs": [],
   "source": [
    "trdata=ImageDataGenerator()"
   ]
  },
  {
   "cell_type": "code",
   "execution_count": 7,
   "id": "9d7b450e",
   "metadata": {},
   "outputs": [
    {
     "name": "stdout",
     "output_type": "stream",
     "text": [
      "Found 20000 images belonging to 2 classes.\n"
     ]
    }
   ],
   "source": [
    "traindata=trdata.flow_from_directory(directory=\"C:\\\\Users\\\\91970\\\\OneDrive\\\\Desktop\\\\VGG-16\\\\train\",target_size=(224,224))"
   ]
  },
  {
   "cell_type": "code",
   "execution_count": 8,
   "id": "d2ea8e4c",
   "metadata": {},
   "outputs": [],
   "source": [
    "tsdata=ImageDataGenerator()"
   ]
  },
  {
   "cell_type": "code",
   "execution_count": 9,
   "id": "7f61569a",
   "metadata": {},
   "outputs": [
    {
     "name": "stdout",
     "output_type": "stream",
     "text": [
      "Found 5000 images belonging to 2 classes.\n"
     ]
    }
   ],
   "source": [
    "testdata=tsdata.flow_from_directory(directory=\"C:\\\\Users\\\\91970\\\\OneDrive\\\\Desktop\\\\VGG-16\\\\test\",target_size=(224,224))"
   ]
  },
  {
   "cell_type": "code",
   "execution_count": 10,
   "id": "3d53d5b1",
   "metadata": {},
   "outputs": [],
   "source": [
    "model=Sequential()\n",
    "model.add(Conv2D(input_shape=(224,224,3),filters=64,kernel_size=(3,3),padding='same',activation='relu'))\n",
    "model.add(Conv2D(filters=64,kernel_size=(3,3),padding='same',activation='relu'))\n",
    "model.add(MaxPooling2D(pool_size=(2,2),strides=(2,2)))\n",
    "model.add(Conv2D(filters=128,kernel_size=(3,3),padding='same',activation='relu'))\n",
    "model.add(Conv2D(filters=128,kernel_size=(3,3),padding='same',activation='relu'))\n",
    "model.add(MaxPooling2D(pool_size=(2,2),strides=(2,2)))\n",
    "model.add(Conv2D(filters=256,kernel_size=(3,3),padding='same',activation='relu'))\n",
    "model.add(Conv2D(filters=256,kernel_size=(3,3),padding='same',activation='relu'))\n",
    "model.add(Conv2D(filters=256,kernel_size=(3,3),padding='same',activation='relu'))\n",
    "model.add(MaxPooling2D(pool_size=(2,2),strides=(2,2)))\n",
    "model.add(Conv2D(filters=512,kernel_size=(3,3),padding='same',activation='relu'))\n",
    "model.add(Conv2D(filters=512,kernel_size=(3,3),padding='same',activation='relu'))\n",
    "model.add(Conv2D(filters=512,kernel_size=(3,3),padding='same',activation='relu'))\n",
    "model.add(MaxPooling2D(pool_size=(2,2),strides=(2,2)))"
   ]
  },
  {
   "cell_type": "code",
   "execution_count": 11,
   "id": "66816d22",
   "metadata": {},
   "outputs": [],
   "source": [
    "model.add(Flatten())\n",
    "model.add(Dense(units=4096,activation='relu'))\n",
    "model.add(Dense(units=4096,activation='relu'))\n",
    "model.add(Dense(units=2,activation='softmax'))"
   ]
  },
  {
   "cell_type": "code",
   "execution_count": 12,
   "id": "5d1d35d8",
   "metadata": {},
   "outputs": [],
   "source": [
    "from keras.optimizers import Adam\n",
    "opt=Adam(learning_rate=0.001)\n",
    "model.compile(optimizer=opt,loss=keras.losses.categorical_crossentropy,metrics=['accuracy'])"
   ]
  },
  {
   "cell_type": "code",
   "execution_count": 13,
   "id": "d699ebc2",
   "metadata": {},
   "outputs": [
    {
     "name": "stdout",
     "output_type": "stream",
     "text": [
      "Model: \"sequential\"\n",
      "_________________________________________________________________\n",
      " Layer (type)                Output Shape              Param #   \n",
      "=================================================================\n",
      " conv2d (Conv2D)             (None, 224, 224, 64)      1792      \n",
      "                                                                 \n",
      " conv2d_1 (Conv2D)           (None, 224, 224, 64)      36928     \n",
      "                                                                 \n",
      " max_pooling2d (MaxPooling2D  (None, 112, 112, 64)     0         \n",
      " )                                                               \n",
      "                                                                 \n",
      " conv2d_2 (Conv2D)           (None, 112, 112, 128)     73856     \n",
      "                                                                 \n",
      " conv2d_3 (Conv2D)           (None, 112, 112, 128)     147584    \n",
      "                                                                 \n",
      " max_pooling2d_1 (MaxPooling  (None, 56, 56, 128)      0         \n",
      " 2D)                                                             \n",
      "                                                                 \n",
      " conv2d_4 (Conv2D)           (None, 56, 56, 256)       295168    \n",
      "                                                                 \n",
      " conv2d_5 (Conv2D)           (None, 56, 56, 256)       590080    \n",
      "                                                                 \n",
      " conv2d_6 (Conv2D)           (None, 56, 56, 256)       590080    \n",
      "                                                                 \n",
      " max_pooling2d_2 (MaxPooling  (None, 28, 28, 256)      0         \n",
      " 2D)                                                             \n",
      "                                                                 \n",
      " conv2d_7 (Conv2D)           (None, 28, 28, 512)       1180160   \n",
      "                                                                 \n",
      " conv2d_8 (Conv2D)           (None, 28, 28, 512)       2359808   \n",
      "                                                                 \n",
      " conv2d_9 (Conv2D)           (None, 28, 28, 512)       2359808   \n",
      "                                                                 \n",
      " max_pooling2d_3 (MaxPooling  (None, 14, 14, 512)      0         \n",
      " 2D)                                                             \n",
      "                                                                 \n",
      " flatten (Flatten)           (None, 100352)            0         \n",
      "                                                                 \n",
      " dense (Dense)               (None, 4096)              411045888 \n",
      "                                                                 \n",
      " dense_1 (Dense)             (None, 4096)              16781312  \n",
      "                                                                 \n",
      " dense_2 (Dense)             (None, 2)                 8194      \n",
      "                                                                 \n",
      "=================================================================\n",
      "Total params: 435,470,658\n",
      "Trainable params: 435,470,658\n",
      "Non-trainable params: 0\n",
      "_________________________________________________________________\n"
     ]
    }
   ],
   "source": [
    "model.summary()"
   ]
  },
  {
   "cell_type": "code",
   "execution_count": null,
   "id": "8905515a",
   "metadata": {},
   "outputs": [
    {
     "name": "stderr",
     "output_type": "stream",
     "text": [
      "C:\\Users\\91970\\AppData\\Local\\Temp/ipykernel_29276/1565378694.py:4: UserWarning: `Model.fit_generator` is deprecated and will be removed in a future version. Please use `Model.fit`, which supports generators.\n",
      "  hist = model.fit_generator(steps_per_epoch=5,generator=traindata,validation_data= testdata, validation_steps=10,epochs=5,callbacks=[checkpoint,early])\n"
     ]
    },
    {
     "name": "stdout",
     "output_type": "stream",
     "text": [
      "Epoch 1/5\n",
      "WARNING:tensorflow:Can save best model only with val_acc available, skipping.\n",
      "1/5 [=====>........................] - ETA: 9:20 - loss: 0.6211 - accuracy: 0.5625WARNING:tensorflow:Can save best model only with val_acc available, skipping.\n",
      "2/5 [===========>..................] - ETA: 10:07 - loss: 16181.7422 - accuracy: 0.5469WARNING:tensorflow:Can save best model only with val_acc available, skipping.\n",
      "3/5 [=================>............] - ETA: 5:53 - loss: 10792.5801 - accuracy: 0.5208 WARNING:tensorflow:Can save best model only with val_acc available, skipping.\n",
      "4/5 [=======================>......] - ETA: 2:40 - loss: 8099.1133 - accuracy: 0.5078 WARNING:tensorflow:Can save best model only with val_acc available, skipping.\n",
      "5/5 [==============================] - ETA: 0s - loss: 6480.0542 - accuracy: 0.5250  WARNING:tensorflow:Early stopping conditioned on metric `val_acc` which is not available. Available metrics are: loss,accuracy,val_loss,val_accuracy\n",
      "5/5 [==============================] - 864s 181s/step - loss: 6480.0542 - accuracy: 0.5250 - val_loss: 3.3623 - val_accuracy: 0.4844\n",
      "Epoch 2/5\n",
      "WARNING:tensorflow:Can save best model only with val_acc available, skipping.\n",
      "1/5 [=====>........................] - ETA: 8:34 - loss: 3.1154 - accuracy: 0.5000WARNING:tensorflow:Can save best model only with val_acc available, skipping.\n",
      "2/5 [===========>..................] - ETA: 10:30 - loss: 1.9073 - accuracy: 0.4688WARNING:tensorflow:Can save best model only with val_acc available, skipping.\n",
      "3/5 [=================>............] - ETA: 6:03 - loss: 1.4962 - accuracy: 0.5208 WARNING:tensorflow:Can save best model only with val_acc available, skipping.\n",
      "4/5 [=======================>......] - ETA: 2:50 - loss: 1.3968 - accuracy: 0.5078WARNING:tensorflow:Can save best model only with val_acc available, skipping.\n",
      "5/5 [==============================] - ETA: 0s - loss: 3.3445 - accuracy: 0.4812  WARNING:tensorflow:Early stopping conditioned on metric `val_acc` which is not available. Available metrics are: loss,accuracy,val_loss,val_accuracy\n",
      "5/5 [==============================] - 866s 184s/step - loss: 3.3445 - accuracy: 0.4812 - val_loss: 0.7125 - val_accuracy: 0.4688\n",
      "Epoch 3/5\n",
      "WARNING:tensorflow:Can save best model only with val_acc available, skipping.\n",
      "1/5 [=====>........................] - ETA: 6:24 - loss: 0.6831 - accuracy: 0.5938WARNING:tensorflow:Can save best model only with val_acc available, skipping.\n",
      "2/5 [===========>..................] - ETA: 6:50 - loss: 0.6911 - accuracy: 0.5625"
     ]
    }
   ],
   "source": [
    "from keras.callbacks import ModelCheckpoint, EarlyStopping\n",
    "checkpoint = ModelCheckpoint(\"vgg16_1.h5\", monitor='val_acc', verbose=1, save_best_only=True, save_weights_only=False, mode='auto', save_freq=1)\n",
    "early = EarlyStopping(monitor='val_acc', min_delta=0, patience=20, verbose=1, mode='auto')\n",
    "hist = model.fit_generator(steps_per_epoch=5,generator=traindata,validation_data= testdata, validation_steps=10,epochs=5,callbacks=[checkpoint,early])"
   ]
  },
  {
   "cell_type": "code",
   "execution_count": null,
   "id": "37f239ee",
   "metadata": {},
   "outputs": [],
   "source": [
    "\n"
   ]
  },
  {
   "cell_type": "code",
   "execution_count": null,
   "id": "73462d57",
   "metadata": {},
   "outputs": [],
   "source": []
  }
 ],
 "metadata": {
  "kernelspec": {
   "display_name": "Python 3 (ipykernel)",
   "language": "python",
   "name": "python3"
  },
  "language_info": {
   "codemirror_mode": {
    "name": "ipython",
    "version": 3
   },
   "file_extension": ".py",
   "mimetype": "text/x-python",
   "name": "python",
   "nbconvert_exporter": "python",
   "pygments_lexer": "ipython3",
   "version": "3.9.7"
  }
 },
 "nbformat": 4,
 "nbformat_minor": 5
}
